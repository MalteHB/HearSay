{
 "nbformat": 4,
 "nbformat_minor": 2,
 "metadata": {
  "language_info": {
   "name": "python",
   "codemirror_mode": {
    "name": "ipython",
    "version": 3
   }
  },
  "orig_nbformat": 2,
  "file_extension": ".py",
  "mimetype": "text/x-python",
  "name": "python",
  "npconvert_exporter": "python",
  "pygments_lexer": "ipython3",
  "version": 3
 },
 "cells": [
  {
   "cell_type": "markdown",
   "metadata": {},
   "source": [
    "# This is a notebook for using a BERT on the LIAR dataset in regards to classify the veracity/falsity of sentences"
   ]
  },
  {
   "cell_type": "code",
   "execution_count": null,
   "metadata": {},
   "outputs": [],
   "source": [
    "\n",
    "# native packages\n",
    "import os\n",
    "\n",
    "# widely use packages\n",
    "import pandas as pd\n",
    "\n",
    "# other packages\n",
    "from simpletransformers.ner import NERModel\n",
    "from simpletransformers.classification import ClassificationModel\n"
   ]
  }
 ]
}